{
 "cells": [
  {
   "cell_type": "code",
   "execution_count": null,
   "metadata": {},
   "outputs": [],
   "source": [
    "#PART 1"
   ]
  },
  {
   "cell_type": "code",
   "execution_count": null,
   "metadata": {},
   "outputs": [],
   "source": [
    "import math\n",
    "import statistics as stat\n",
    "\n",
    "def cal(lst):\n",
    "    c = 0\n",
    "    for i in lst:       #calculating mean\n",
    "        c = c + i\n",
    "    mean = c / len(lst)\n",
    "    \n",
    "    s = stat.stdev(lst)     #calculating standard deviation\n",
    "    \n",
    "    return (mean,s)  "
   ]
  },
  {
   "cell_type": "code",
   "execution_count": null,
   "metadata": {},
   "outputs": [],
   "source": [
    "import random\n",
    "def f(num):    #num indicating num of dots\n",
    "    l = []     #using list for storing statistical results\n",
    "    l2 = []    #using list for storing mean and std.deviaition results\n",
    "    m = 0      #for calaulaing final result of mean\n",
    "    s = 0      #for calaulaing final result of standard deviation\n",
    "    for i in range(num):\n",
    "        x = random.uniform(0,2)\n",
    "        y = random.uniform(0,2)\n",
    "        if(x+y <= 2):\n",
    "            l.append(x+y)\n",
    "    for i in range(1000):\n",
    "        l2.append(cal(l))\n",
    "    for i in l2:\n",
    "        m = m + i[0]    #on '0' there is mean\n",
    "        s = s + i[1]    #on '1' there is standard deviation\n",
    "    m = m/1000\n",
    "    s = s/1000\n",
    "    print(\"Mean is: \",m)     #for final results\n",
    "    print(\"Standard deviation is: \",s)\n",
    "        \n",
    "f(20)\n",
    "        \n",
    "        \n",
    "    "
   ]
  },
  {
   "cell_type": "code",
   "execution_count": null,
   "metadata": {},
   "outputs": [],
   "source": []
  },
  {
   "cell_type": "code",
   "execution_count": null,
   "metadata": {},
   "outputs": [],
   "source": [
    "#PART 2"
   ]
  },
  {
   "cell_type": "code",
   "execution_count": null,
   "metadata": {},
   "outputs": [],
   "source": [
    "import math\n",
    "import statistics as stat\n",
    "\n",
    "def cal(lst):\n",
    "    c = 0\n",
    "    for i in lst:       #calculating mean\n",
    "        c = c + i\n",
    "    mean = c / len(lst)\n",
    "    \n",
    "    s = stat.stdev(lst)     #calculating standard deviation\n",
    "    \n",
    "    return (mean,s) "
   ]
  },
  {
   "cell_type": "code",
   "execution_count": null,
   "metadata": {},
   "outputs": [],
   "source": [
    "import random\n",
    "def f(num):    #num indicating num of dots\n",
    "    l = []     #using list for storing statistical results\n",
    "    l2 = []    #using list for storing mean and std.deviaition results\n",
    "    m = 0      #for calaulaing final result of mean\n",
    "    s = 0      #for calaulaing final result of standard deviation\n",
    "    for i in range(num):\n",
    "        x = random.uniform(2,3)\n",
    "        y = random.uniform(2,3)\n",
    "        if(x+y <= 1):\n",
    "            l.append(x+y)\n",
    "    for i in range(1000):\n",
    "        l2.append(cal(l))\n",
    "    for i in l2:\n",
    "        m = m + i[0]    #on '0' there is mean\n",
    "        s = s + i[1]    #on '1' there is standard deviation\n",
    "    m = m/1000\n",
    "    s = s/1000\n",
    "    print(\"Mean is: \",m)     #for final results\n",
    "    print(\"Standard deviation is: \",s)\n",
    "        \n",
    "f(20)\n",
    "        "
   ]
  },
  {
   "cell_type": "code",
   "execution_count": null,
   "metadata": {},
   "outputs": [],
   "source": []
  },
  {
   "cell_type": "code",
   "execution_count": null,
   "metadata": {},
   "outputs": [],
   "source": [
    "#PART 3"
   ]
  },
  {
   "cell_type": "code",
   "execution_count": null,
   "metadata": {},
   "outputs": [],
   "source": [
    "import math\n",
    "import statistics as stat\n",
    "\n",
    "def cal(lst):\n",
    "    c = 0\n",
    "    for i in lst:       #calculating mean\n",
    "        c = c + i\n",
    "        \n",
    "    mean = c / len(lst)\n",
    "    \n",
    "    s = stat.stdev(lst)     #calculating standard deviation\n",
    "    \n",
    "    return (mean,s)"
   ]
  },
  {
   "cell_type": "code",
   "execution_count": null,
   "metadata": {},
   "outputs": [],
   "source": [
    "import random\n",
    "def f(num):    #num indicating num of dots\n",
    "    l = []     #using list for storing statistical results\n",
    "    l2 = []    #using list for storing mean and std.deviaition results\n",
    "    m = 0      #for calaulaing final result of mean\n",
    "    s = 0      #for calaulaing final result of standard deviation\n",
    "    for i in range(num):\n",
    "        x = random.uniform(0,2)\n",
    "        y = random.uniform(0,2)\n",
    "        if(x+y <= 2):\n",
    "            l.append(x+y)\n",
    "    for i in range(1000):\n",
    "        l2.append(cal(l))\n",
    "    for i in l2:\n",
    "        m = m + i[0]    #on '0' there is mean\n",
    "        s = s + i[1]    #on '1' there is standard deviation\n",
    "    m = m/1000\n",
    "    s = s/1000\n",
    "    print(\"Mean is: \",m)     #for final results\n",
    "    print(\"Standard deviation is: \",s)\n",
    "        \n",
    "f(20)"
   ]
  },
  {
   "cell_type": "code",
   "execution_count": null,
   "metadata": {},
   "outputs": [],
   "source": []
  },
  {
   "cell_type": "code",
   "execution_count": null,
   "metadata": {},
   "outputs": [],
   "source": []
  },
  {
   "cell_type": "code",
   "execution_count": null,
   "metadata": {},
   "outputs": [],
   "source": []
  }
 ],
 "metadata": {
  "kernelspec": {
   "display_name": "Python 3",
   "language": "python",
   "name": "python3"
  },
  "language_info": {
   "codemirror_mode": {
    "name": "ipython",
    "version": 3
   },
   "file_extension": ".py",
   "mimetype": "text/x-python",
   "name": "python",
   "nbconvert_exporter": "python",
   "pygments_lexer": "ipython3",
   "version": "3.8.3"
  }
 },
 "nbformat": 4,
 "nbformat_minor": 4
}
