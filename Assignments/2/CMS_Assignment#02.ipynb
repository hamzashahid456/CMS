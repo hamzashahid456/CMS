{
 "cells": [
  {
   "cell_type": "code",
   "execution_count": 7,
   "metadata": {},
   "outputs": [],
   "source": [
    "import math\n",
    "\n",
    "growthRate = 0.1 \n",
    "\n",
    "ini_pop = 100\n",
    "\n",
    "def analytical_sol(time, pI):\n",
    "    return ( pI * math.exp( (growthRate * time) ) )\n",
    "\n"
   ]
  },
  {
   "cell_type": "code",
   "execution_count": 8,
   "metadata": {},
   "outputs": [],
   "source": [
    "sim_len = 15\n",
    "\n",
    "delta_t = 4\n",
    "\n",
    "growthRatePerStep = growthRate * delta_t\n",
    "\n",
    "def euler(time,timeStepSize):\n",
    "\n",
    "    timeStepSize = growthRate * time\n",
    "\n",
    "    iterr = int(sim_len / time)\n",
    "\n",
    "    for i in range(iterr):\n",
    "        popp = ini_pop + timeStepSize * ini_pop\n",
    "        t = i * time\n",
    "        \n",
    "    return popp"
   ]
  },
  {
   "cell_type": "code",
   "execution_count": 9,
   "metadata": {},
   "outputs": [
    {
     "name": "stdout",
     "output_type": "stream",
     "text": [
      "9.182469764127035\n"
     ]
    }
   ],
   "source": [
    "def error():\n",
    "    # subtract euler method solution from analytical sol\n",
    "    print( (analytical_sol(4,ini_pop)) - ( euler(delta_t,growthRatePerStep) ) )\n",
    "\n",
    "error()"
   ]
  },
  {
   "cell_type": "code",
   "execution_count": null,
   "metadata": {},
   "outputs": [],
   "source": []
  },
  {
   "cell_type": "code",
   "execution_count": null,
   "metadata": {},
   "outputs": [],
   "source": []
  }
 ],
 "metadata": {
  "kernelspec": {
   "display_name": "Python 3",
   "language": "python",
   "name": "python3"
  },
  "language_info": {
   "codemirror_mode": {
    "name": "ipython",
    "version": 3
   },
   "file_extension": ".py",
   "mimetype": "text/x-python",
   "name": "python",
   "nbconvert_exporter": "python",
   "pygments_lexer": "ipython3",
   "version": "3.8.3"
  }
 },
 "nbformat": 4,
 "nbformat_minor": 4
}
