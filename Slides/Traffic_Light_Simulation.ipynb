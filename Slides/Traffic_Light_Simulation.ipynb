{
 "cells": [
  {
   "cell_type": "code",
   "execution_count": 4,
   "id": "ae7b95ba",
   "metadata": {},
   "outputs": [],
   "source": [
    "import simpy\n"
   ]
  },
  {
   "cell_type": "code",
   "execution_count": null,
   "id": "501d5e8c",
   "metadata": {},
   "outputs": [],
   "source": []
  },
  {
   "cell_type": "code",
   "execution_count": null,
   "id": "6150163d",
   "metadata": {},
   "outputs": [],
   "source": []
  },
  {
   "cell_type": "code",
   "execution_count": 5,
   "id": "ac35b1e4",
   "metadata": {},
   "outputs": [],
   "source": [
    "def example_sim():\n",
    "    env = simpy.Environment()\n",
    "    env.process(traffic_light(env))\n",
    "    env.run(until=120)\n",
    "    print(\"Simulation ended\")"
   ]
  },
  {
   "cell_type": "code",
   "execution_count": 6,
   "id": "f1fcf628",
   "metadata": {},
   "outputs": [],
   "source": [
    "def traffic_light(env):\n",
    "    while(True):\n",
    "        print(\"Light turned GREEN at t= \"+str(env.now))\n",
    "        yield env.timeout(30)\n",
    "        print(\"Light turned YELLOW at t= \"+str(env.now))\n",
    "        yield env.timeout(5)\n",
    "        print(\"Light turned RED at t= \"+str(env.now))\n",
    "        yield env.timeout(10)"
   ]
  },
  {
   "cell_type": "code",
   "execution_count": 7,
   "id": "97cfa16d",
   "metadata": {},
   "outputs": [
    {
     "name": "stdout",
     "output_type": "stream",
     "text": [
      "Light turned GREEN at t= 0\n",
      "Light turned YELLOW at t= 30\n",
      "Light turned RED at t= 35\n",
      "Light turned GREEN at t= 45\n",
      "Light turned YELLOW at t= 75\n",
      "Light turned RED at t= 80\n",
      "Light turned GREEN at t= 90\n",
      "Simulation ended\n"
     ]
    }
   ],
   "source": [
    "example_sim()"
   ]
  },
  {
   "cell_type": "code",
   "execution_count": null,
   "id": "560fd7e8",
   "metadata": {},
   "outputs": [],
   "source": [
    "def example_gen():\n",
    "    for i in range(10):\n",
    "        yield i\n",
    "def example_func():\n",
    "    for i in range(10):\n",
    "        return i\n",
    "output_func=example_func()\n",
    "output_gen= example_gen()\n",
    "\n"
   ]
  },
  {
   "cell_type": "code",
   "execution_count": null,
   "id": "07763caa",
   "metadata": {},
   "outputs": [],
   "source": [
    "print(output_func)"
   ]
  },
  {
   "cell_type": "code",
   "execution_count": null,
   "id": "c8bab344",
   "metadata": {},
   "outputs": [],
   "source": [
    "print(next(output_gen))"
   ]
  },
  {
   "cell_type": "code",
   "execution_count": null,
   "id": "b2203fc0",
   "metadata": {},
   "outputs": [],
   "source": []
  },
  {
   "cell_type": "code",
   "execution_count": null,
   "id": "859fe2c0",
   "metadata": {},
   "outputs": [],
   "source": []
  }
 ],
 "metadata": {
  "kernelspec": {
   "display_name": "Python 3 (ipykernel)",
   "language": "python",
   "name": "python3"
  },
  "language_info": {
   "codemirror_mode": {
    "name": "ipython",
    "version": 3
   },
   "file_extension": ".py",
   "mimetype": "text/x-python",
   "name": "python",
   "nbconvert_exporter": "python",
   "pygments_lexer": "ipython3",
   "version": "3.8.3"
  }
 },
 "nbformat": 4,
 "nbformat_minor": 5
}
